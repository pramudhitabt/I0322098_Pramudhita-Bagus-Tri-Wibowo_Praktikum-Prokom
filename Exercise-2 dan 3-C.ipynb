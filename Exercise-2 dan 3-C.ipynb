{
 "cells": [
  {
   "cell_type": "code",
   "execution_count": 4,
   "metadata": {},
   "outputs": [
    {
     "name": "stdout",
     "output_type": "stream",
     "text": [
      "Pramudhita Bagus Tri Wibowo\n",
      "I0322098\n",
      "C\n",
      "\n",
      "Contoh soal: \n",
      "Diketahui sebuah kursi dinaikkan ke lantai 5 sebuah gedung apartemen dengan ketinggian 15 meter dan dengan energi potensial sebesar 1500 Joule. Berapakah massa kursi tersebut? (g = 10 m/s2)\n",
      "\n",
      "\n",
      "Mencari nilai massa dari suatu benda\n",
      "============================================\n",
      "\n",
      "Energi potensial(Ep)    =  1500.0 J\n",
      "Ketinggian benda(h)     =  15.0 m\n",
      "Percepatan gravitasi(g) =  10.0 m/s^2\n",
      "\n",
      "Dengan demikian, massa benda tersebut adalah m = Ep/g.h =  10.0 kg\n",
      "============================================\n",
      "\n",
      "Contoh soal: \n",
      "Diketahui suatu balok kayu memiliki massa jenis 150 kg/m^3 dengan ukuran panjang 4 m, lebar 2 m, dan tinggi 2 m. Berapakah besar gaya apung benda tersebut? (g = 10 m/s^2)\n",
      "\n",
      "Mencari besar gaya apung dari suatu benda\n",
      "============================================\n",
      "\n",
      "Massa jenis(rho)        =  150.0 kg/m^3\n",
      "Panjang benda(p)        =  4.0 m\n",
      "Lebar benda(l)          =  2.0 m\n",
      "Tinggi benda(t)         =  2.0 m\n",
      "Volume(v)               =  16.0 m^3\n",
      "Percepatan gravitasi(g) =  10.0 m/s^2\n",
      "\n",
      "Dengan demikian, maka besar gaya apung yang diperoleh adalah Fa = Massa jenis(rho).g.v =  24000.0 N\n",
      "============================================\n",
      "\n",
      "Contoh soal: \n",
      "Diketahui suatu segi lima sama sisi memiliki panjang sisi 12 m, berapakah luas segi lima tersebut?\n",
      "\n",
      "Mencari luas segi lima sama sisi\n",
      "============================================\n",
      "\n",
      "Sisi(s) =  12.0 m\n",
      "\n",
      "Maka, luas segi lima tersebut adalah L = ¼ x √(5x(5+2√5)) x s^2 =  247.74874568481124 m^2\n",
      "============================================\n",
      "\n"
     ]
    }
   ],
   "source": [
    "print(input(\"Nama  : \"))\n",
    "print(input(\"NIM   : \"))\n",
    "print(input(\"Kelas : \"))\n",
    "\n",
    "#Mencari besar massa dari suatu benda jika diketahui nilai energi potensial, percepatan gravitasi, dan ketinggian benda disertai rumusnya\n",
    "\n",
    "print(\"\\nContoh soal: \")\n",
    "print(\"Diketahui sebuah kursi dinaikkan ke lantai 5 sebuah gedung apartemen dengan ketinggian 15 meter dan dengan energi potensial sebesar 1500 Joule. Berapakah massa kursi tersebut? (g = 10 m/s2)\\n\")\n",
    "print(\"\\nMencari nilai massa dari suatu benda\")\n",
    "print(\"============================================\\n\")\n",
    "\n",
    "energi_potensial = float(input(\"Masukkan nilai Energi Potensial(Ep) yang diketahui = \"))\n",
    "print(\"Energi potensial(Ep)    = \", energi_potensial, \"J\")\n",
    "ketinggian_benda = float(input(\"Masukkan nilai ketinggian benda = \"))\n",
    "print(\"Ketinggian benda(h)     = \", ketinggian_benda, \"m\")\n",
    "percepatan_gravitasi = float(input(\"Masukkan percepatan gravitasi benda = \"))\n",
    "print(\"Percepatan gravitasi(g) = \", percepatan_gravitasi, \"m/s^2\")\n",
    "\n",
    "massa = energi_potensial/(percepatan_gravitasi*ketinggian_benda)\n",
    "print(\"\\nDengan demikian, massa benda tersebut adalah m = Ep/g.h = \", massa, \"kg\")\n",
    "print(\"============================================\\n\")\n",
    "\n",
    "#Mencari besar gaya apung jika diketahui massa jenis, tinggi, panjang, dan lebar benda serta percepatan gravitasi dan contohnya disertai dengan rumus\n",
    "\n",
    "print(\"Contoh soal: \")\n",
    "print(\"Diketahui suatu balok kayu memiliki massa jenis 150 kg/m^3 dengan ukuran panjang 4 m, lebar 2 m, dan tinggi 2 m. Berapakah besar gaya apung benda tersebut? (g = 10 m/s^2)\\n\")\n",
    "print(\"Mencari besar gaya apung dari suatu benda\")\n",
    "print(\"============================================\\n\")\n",
    "massa_jenis = float(input(\"Masukkan nilai massa jenis(rho) benda tersebut = \"))\n",
    "print(\"Massa jenis(rho)        = \", massa_jenis, \"kg/m^3\")\n",
    "panjang = float(input(\"Masukkan nilai panjang benda = \"))\n",
    "print(\"Panjang benda(p)        = \", panjang, \"m\")\n",
    "lebar = float(input(\"Masukkan nilai lebar benda = \"))\n",
    "print(\"Lebar benda(l)          = \", lebar, \"m\")\n",
    "tinggi = float(input(\"Masukkan nilai tinggi benda = \"))\n",
    "print(\"Tinggi benda(t)         = \", tinggi, \"m\")\n",
    "volume = panjang*lebar*tinggi\n",
    "print(\"Volume(v)               = \", volume, \"m^3\")\n",
    "percepatan_gravitasi = float(input(\"Masukkan percepatan gravitasi benda = \"))\n",
    "print(\"Percepatan gravitasi(g) = \", percepatan_gravitasi, \"m/s^2\")\n",
    "\n",
    "gaya_apung = massa_jenis*percepatan_gravitasi*volume\n",
    "print(\"\\nDengan demikian, maka besar gaya apung yang diperoleh adalah Fa = Massa jenis(rho).g.v = \", gaya_apung, \"N\")\n",
    "print(\"============================================\\n\")\n",
    "\n",
    "#Mencari luas segi lima sama sisi\n",
    "\n",
    "print(\"Contoh soal: \")\n",
    "print(\"Diketahui suatu segi lima sama sisi memiliki panjang sisi 12 m, berapakah luas segi lima tersebut?\\n\")\n",
    "print(\"Mencari luas segi lima sama sisi\")\n",
    "print(\"============================================\\n\")\n",
    "sisi = float(input(\"Masukkan nilai sisi dari segi lima tersebut = \"))\n",
    "print(\"Sisi(s) = \", sisi, \"m\")\n",
    "luas = (5*(5+(2*5**(1/2))))**(1/2)*(sisi**2)/4\n",
    "print(\"\\nMaka, luas segi lima tersebut adalah L = ¼ x √(5x(5+2√5)) x s^2 = \", luas, \"m^2\")\n",
    "print(\"============================================\\n\")"
   ]
  },
  {
   "attachments": {},
   "cell_type": "markdown",
   "metadata": {},
   "source": [
    "## 1."
   ]
  },
  {
   "attachments": {},
   "cell_type": "markdown",
   "metadata": {},
   "source": [
    "buatlah program sederhana untuk:\n",
    "* **A** mencari massa jika diketahui nilai energi potensial, percepatan gravitasi, dan ketinggian benda! beserta rumus nya!\n",
    "* **B** mencari gaya apung jika diketahui massa jenis, tinggi, panjang, dan lebar benda serta percepatan gravitasi dan contohnya! beserta rumus nya!\n",
    "* **C** Tulis program Python untuk menghitung luas dari segi lima sama sisi!\n",
    "\n",
    "> *note* : rumus, contoh, dan nilai dari tiap variabel ditentukan oleh kalian sendiri dan gunakan satuan baku (SI) untuk menghitung nilai dari tiap variabel"
   ]
  },
  {
   "attachments": {},
   "cell_type": "markdown",
   "metadata": {},
   "source": [
    "## 2."
   ]
  },
  {
   "cell_type": "code",
   "execution_count": 3,
   "metadata": {},
   "outputs": [
    {
     "name": "stdout",
     "output_type": "stream",
     "text": [
      "Menghitung harga total pembelian tiket keluarga Anya\n",
      "======================================================\n",
      "\n",
      "Harga tiket Ayah   = Rp 110000\n",
      "Harga tiket Ibu    = Rp 110000\n",
      "Harga tiket Anya   = Rp 110000\n",
      "Harga tiket Harry  = Rp 75000\n",
      "Harga tiket Taylor = Rp 0\n",
      "Promo Ramadhan sebesar 20%\n",
      "\n",
      "Harga total pembelian tiket keluarga Anya adalah Rp 81000.0\n",
      "======================================================\n",
      "\n"
     ]
    }
   ],
   "source": [
    "print(\"Menghitung harga total pembelian tiket keluarga Anya\")\n",
    "print(\"======================================================\\n\")\n",
    "\n",
    "Ayah = 110000\n",
    "print(\"Harga tiket Ayah   = Rp 110000\")\n",
    "Ibu = 110000\n",
    "print(\"Harga tiket Ibu    = Rp 110000\")\n",
    "Anya = 110000\n",
    "print(\"Harga tiket Anya   = Rp 110000\")\n",
    "Harry = 75000\n",
    "print(\"Harga tiket Harry  = Rp 75000\")\n",
    "Taylor = 0\n",
    "print(\"Harga tiket Taylor = Rp 0\")\n",
    "print(\"Promo Ramadhan sebesar 20%\\n\")\n",
    "\n",
    "Total = (Ayah + Ibu + Anya + Harry + Taylor)*20/100\n",
    "print(\"Harga total pembelian tiket keluarga Anya adalah Rp\", Total)\n",
    "print(\"======================================================\\n\")\n"
   ]
  },
  {
   "attachments": {},
   "cell_type": "markdown",
   "metadata": {},
   "source": [
    "Taman bermain ANCOL memiliki berbagai wahana, salah satunya adalah bianglala. Harga tiket yang dijual berbeda tergantung dengan kategori nya. Harga tiket bagi orang dewasa atau yang berumur lebih dari 17 tahun adalah Rp 110.000 , harga tiket untuk anak-anak usia 6-16 tahun adalah Rp. 75.000 , sedangkan untuk usia dibawahnya tidak dikenakan biaya. Pada wahana bianglala sedang ada \"Promo RAMADHAN\" sebesar 20% bagi pembelian tiket lebih dari 2 pcs.\n",
    "\n",
    "Keluarga Anya Forger ingin menaiki wahana bianglala tersebut, Anya (usia 18 tahun) pergi bersama ayah dan ibunya beserta dua adiknya, Harry (usia 8 tahun) dan Taylor (usia 4 tahun). \n",
    "\n",
    "> Buatlah program sederhana untuk menghitung harga total dari pembelian tiket  oleh keluarga Anya dan harga tiket setelah mendapatkan diskon"
   ]
  },
  {
   "attachments": {},
   "cell_type": "markdown",
   "metadata": {},
   "source": [
    "## 3. "
   ]
  },
  {
   "cell_type": "code",
   "execution_count": 43,
   "metadata": {},
   "outputs": [
    {
     "name": "stdout",
     "output_type": "stream",
     "text": [
      "Berlian Safri Prakoso\n",
      "Halidya Siti Hanifah\n",
      "Nurki Putra Mahardika\n",
      "Aji Manarul Aziz\n",
      "Alica Ayu Fitriani\n",
      "Dendy Halim Kusuma\n",
      "\n",
      "[{'nama': 'Berlian Safri Prakoso', 'nim': 'I0320017', 'kontak': '0858XXXXXXXX', 'surel': 'berlian@student.uns.ac.id'}, {'nama': 'Halidya Siti Hanifah', 'nim': 'I0320044', 'kontak': '0878XXXXXXXX', 'surel': 'halidya@student.uns.ac.id'}, {'nama': 'Nurki Putra Mahardika', 'nim': 'I0320076', 'kontak': '0877XXXXXXXX', 'surel': 'nurki@student.uns.ac.id'}, {'nama': 'Aji Manarul Aziz', 'nim': 'I0320119', 'kontak': '0812XXXXXXXX', 'surel': 'manarul@student.uns.ac.id'}, {'nama': 'Alica Ayu Fitriani', 'nim': 'I0320121', 'kontak': '0896XXXXXXXX', 'surel': 'alica@student.uns.ac.id'}, {'nama': 'Dendy Halim Kusuma', 'nim': 'I0320125', 'kontak': '0822XXXXXXXX', 'surel': 'dendy@student.uns.ac.id'}]\n",
      "\n",
      "[{'nama': 'Berlian Safri Prakoso', 'nim': 'I0320017', 'surel': 'berlian@student.uns.ac.id'}, {'nama': 'Halidya Siti Hanifah', 'nim': 'I0320044', 'surel': 'halidya@student.uns.ac.id'}, {'nama': 'Nurki Putra Mahardika', 'nim': 'I0320076', 'surel': 'nurki@student.uns.ac.id'}, {'nama': 'Aji Manarul Aziz', 'nim': 'I0320119', 'surel': 'manarul@student.uns.ac.id'}, {'nama': 'Alica Ayu Fitriani', 'nim': 'I0320121', 'surel': 'alica@student.uns.ac.id'}, {'nama': 'Dendy Halim Kusuma', 'nim': 'I0320125', 'surel': 'dendy@student.uns.ac.id'}]\n"
     ]
    }
   ],
   "source": [
    "list_aslab = [\n",
    "    {\"nama\": \"Berlian Safri Prakoso\", \"nim\": \"I0320017\", \"kontak\": \"0858XXXXXXXX\"},\n",
    "    {\"nama\": \"Halidya Siti Hanifah\", \"nim\": \"I0320044\", \"kontak\": \"0878XXXXXXXX\"},\n",
    "    {\"nama\": \"Nurki Putra Mahardika\", \"nim\": \"I0320076\", \"kontak\": \"0877XXXXXXXX\"},\n",
    "    {\"nama\": \"Aji Manarul Aziz\", \"nim\": \"I0320119\", \"kontak\": \"0812XXXXXXXX\"},\n",
    "    {\"nama\": \"Alica Ayu Fitriani\", \"nim\": \"I0320121\", \"kontak\": \"0896XXXXXXXX\"},\n",
    "    {\"nama\": \"Dendy Halim Kusuma\", \"nim\": \"I0320125\", \"kontak\": \"0822XXXXXXXX\"}\n",
    "]\n",
    "\n",
    "surel = [\"berlian@student.uns.ac.id\",\n",
    "        \"halidya@student.uns.ac.id\",\n",
    "        \"nurki@student.uns.ac.id\",\n",
    "        \"manarul@student.uns.ac.id\",\n",
    "        \"alica@student.uns.ac.id\",\n",
    "        \"dendy@student.uns.ac.id\"]\n",
    "\n",
    "for i in range(len(list_aslab)):\n",
    "    print(list_aslab[i][\"nama\"])\n",
    "\n",
    "print()\n",
    "for i in range(len(list_aslab)):\n",
    "   list_aslab[i].setdefault(\"surel\", surel[i])\n",
    "print(list_aslab)\n",
    "\n",
    "print()\n",
    "for i in range(len(list_aslab)):\n",
    "    list_aslab[i].pop(\"kontak\")\n",
    "print(list_aslab)\n"
   ]
  },
  {
   "attachments": {},
   "cell_type": "markdown",
   "metadata": {},
   "source": [
    "diberikan list aslab sebagai berikut:\n",
    "```python\n",
    "list_aslab = [\n",
    "    {\"nama\": \"Berlian Safri Prakoso\", \"nim\": \"I0320017\", \"kontak\": \"0858XXXXXXXX\"},\n",
    "    {\"nama\": \"Halidya Siti Hanifah\", \"nim\": \"I0320044\", \"kontak\": \"0878XXXXXXXX\"},\n",
    "    {\"nama\": \"Nurki Putra Mahardika\", \"nim\": \"I0320076\", \"kontak\": \"0877XXXXXXXX\"},\n",
    "    {\"nama\": \"Aji Manarul Aziz\", \"nim\": \"I0320119\", \"kontak\": \"0812XXXXXXXX\"},\n",
    "    {\"nama\": \"Alica Ayu Fitriani\", \"nim\": \"I0320121\", \"kontak\": \"0896XXXXXXXX\"},\n",
    "    {\"nama\": \"Dendy Halim Kusuma\", \"nim\": \"I0320125\", \"kontak\": \"0822XXXXXXXX\"}\n",
    "]\n",
    "```\n",
    "* **A** Tuliskan kode untuk mengakses informasi tentang \"nama\" dari semua aslab mulai dari index 1 sampai 5\n",
    "* **B** Tambahkan informasi berikut pada data aslab dan tampilkan hasilnya:\n",
    "```python\n",
    "    surel = [\"berlian@student.uns.ac.id\",\n",
    "          \"halidya@student.uns.ac.id\",\n",
    "          \"nurki@student.uns.ac.id\",\n",
    "          \"manarul@student.uns.ac.id\",\n",
    "          \"alica@student.uns.ac.id\",\n",
    "          \"dendy@student.uns.ac.id\"]\n",
    "```\n",
    "* **C** Hapus nilai pada kunci \"kontak\" pada list aslab dan tampilkan hasilnya\n",
    "> *note: kalian hanya boleh menggunakan key-value pair yang disebutkan di dalam teks, tanpa menggunakan informasi tambahan yang diambil pada list yang ada*"
   ]
  }
 ],
 "metadata": {
  "kernelspec": {
   "display_name": "Python 3",
   "language": "python",
   "name": "python3"
  },
  "language_info": {
   "codemirror_mode": {
    "name": "ipython",
    "version": 3
   },
   "file_extension": ".py",
   "mimetype": "text/x-python",
   "name": "python",
   "nbconvert_exporter": "python",
   "pygments_lexer": "ipython3",
   "version": "3.10.7"
  },
  "orig_nbformat": 4,
  "vscode": {
   "interpreter": {
    "hash": "5addf786bcd861d1ce5006f23111f8cbb206731e5b61b0a5632ba9e0252558a8"
   }
  }
 },
 "nbformat": 4,
 "nbformat_minor": 2
}
