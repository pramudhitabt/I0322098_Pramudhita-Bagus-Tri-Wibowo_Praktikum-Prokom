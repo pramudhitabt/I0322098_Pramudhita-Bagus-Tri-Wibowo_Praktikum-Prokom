{
 "cells": [
  {
   "cell_type": "code",
   "execution_count": null,
   "metadata": {},
   "outputs": [],
   "source": [
    "print(input(\"Nama: \"))\n",
    "print(input(\"NIM: \"))\n",
    "print(input(\"Kelas: \"))"
   ]
  },
  {
   "attachments": {},
   "cell_type": "markdown",
   "metadata": {},
   "source": [
    "## 1."
   ]
  },
  {
   "attachments": {},
   "cell_type": "markdown",
   "metadata": {},
   "source": [
    "Buatlah program yang menampilkan tarif pajak yang harus dibayarkan oleh user dengan input yaitu nama user dan pendapatan dari user.<br>\n",
    "Dengan ketentuan sebagai berikut:\n",
    "* Jika pendapatan kurang dari atau sama dengan 10 juta, maka tarif pajak adalah 2,5%\n",
    "* Jika pendapatan kurang dari atau sama dengan 20 juta, maka tarif pajak adalah 5%\n",
    "* Jika pendapatan kurang dari atau sama dengan 50 juta, maka tarif pajak adalah 10%.\n",
    "* Jika pendapatan lebih dari 50 juta, maka tarif pajak adalah 12,5%.\n",
    "> *note: Kerjakan soal ini dengan percabangan*"
   ]
  },
  {
   "cell_type": "code",
   "execution_count": 5,
   "metadata": {},
   "outputs": [
    {
     "name": "stdout",
     "output_type": "stream",
     "text": [
      "Nama : Boow\n",
      "Penghasilan Anda : Rp60000000\n",
      "Tarif pajak Anda sebesar Rp7500000.0\n"
     ]
    }
   ],
   "source": [
    "# Kerjakan soal no 1 di sini\n",
    "\n",
    "nama_user = input(\"Ketikkan nama Anda : \")\n",
    "print(f\"Nama : {nama_user}\")\n",
    "penghasilan_user = int(input(\"Masukkan penghasilan Anda : \"))\n",
    "print(f\"Penghasilan Anda : Rp{penghasilan_user}\")\n",
    "\n",
    "if penghasilan_user <= 10000000:\n",
    "    print(f\"Tarif pajak Anda sebesar Rp{penghasilan_user*0.025}\")\n",
    "elif penghasilan_user <= 20000000:\n",
    "    print(f\"Tarif pajak Anda sebesar Rp{penghasilan_user*0.05}\")\n",
    "elif penghasilan_user <= 50000000:\n",
    "    print(f\"Tarif pajak Anda sebesar Rp{penghasilan_user*0.1}\")\n",
    "else:\n",
    "   print(f\"Tarif pajak Anda sebesar Rp{penghasilan_user*0.125}\")"
   ]
  },
  {
   "attachments": {},
   "cell_type": "markdown",
   "metadata": {},
   "source": [
    "## 2."
   ]
  },
  {
   "attachments": {},
   "cell_type": "markdown",
   "metadata": {},
   "source": [
    "Buatlah program yang menampilkan akan melakukan validasi apakah mahasiswa tersebut berasal dari TI UNS berdasarkan NIM yang diinput oleh user:\n",
    "<br>Dengan ketentuan sebagai berikut:\n",
    "* NIM mahasiswa TI harus dimulai dengan \"I03\" dengan total panjang 8 karakter (I0320078 adalah contoh NIM mahasiswa TI UNS)\n",
    "* Program akan menampilkan pesan \"NIM mahasiswa TI UNS\" jika NIM yang dimasukkan sesuai dengan format yang dijelaskan di atas, dan akan menampilkan pesan \"NIM Anda tidak valid\" jika tidak sesuai.\n",
    "> *note: Kerjakan soal ini dengan percabangan*"
   ]
  },
  {
   "cell_type": "code",
   "execution_count": 20,
   "metadata": {},
   "outputs": [
    {
     "name": "stdout",
     "output_type": "stream",
     "text": [
      "Nama mahasiswa : Bowo\n",
      "NIM : I03220\n",
      "NIM Anda tidak valid\n"
     ]
    }
   ],
   "source": [
    "# Kerjakan soal no 2 di sini\n",
    "\n",
    "nama_mahasiswa = input(\"Masukkan nama Anda : \")\n",
    "print(f\"Nama mahasiswa : {nama_mahasiswa}\")\n",
    "nim = input(\"Masukkan NIM Anda (max 8 karakter) : \")\n",
    "print(f\"NIM : {nim}\")\n",
    "if len(nim) == 8 and nim[:3] == \"I03\":\n",
    "    print(f\"{nim} mahasiswa TI UNS\")\n",
    "else:\n",
    "    print(\"NIM Anda tidak valid\")"
   ]
  }
 ],
 "metadata": {
  "kernelspec": {
   "display_name": "Python 3",
   "language": "python",
   "name": "python3"
  },
  "language_info": {
   "codemirror_mode": {
    "name": "ipython",
    "version": 3
   },
   "file_extension": ".py",
   "mimetype": "text/x-python",
   "name": "python",
   "nbconvert_exporter": "python",
   "pygments_lexer": "ipython3",
   "version": "3.10.7"
  },
  "orig_nbformat": 4
 },
 "nbformat": 4,
 "nbformat_minor": 2
}
