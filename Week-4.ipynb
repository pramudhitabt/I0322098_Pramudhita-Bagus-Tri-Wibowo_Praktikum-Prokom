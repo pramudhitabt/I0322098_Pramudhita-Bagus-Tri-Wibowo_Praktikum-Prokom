{
 "cells": [
  {
   "cell_type": "code",
   "execution_count": null,
   "metadata": {},
   "outputs": [
    {
     "name": "stdout",
     "output_type": "stream",
     "text": [
      "7 adalah bilangan ganjil\n"
     ]
    }
   ],
   "source": [
    "x = int(input(\"Masukkan umur Anda: \"))\n",
    "\n",
    "if x % 2 == 0:\n",
    "    print(f\"{x} adalah bilangan genap\")\n",
    "else:\n",
    "    print(f\"{x} adalah bilangan ganjil\")"
   ]
  },
  {
   "cell_type": "code",
   "execution_count": 16,
   "metadata": {},
   "outputs": [
    {
     "name": "stdout",
     "output_type": "stream",
     "text": [
      "Pilihan rute bus :\n",
      "1. Solo-Semarang\n",
      "2. Solo-Jogja\n",
      "3. Solo-Surabaya\n",
      "4. Solo-Malang\n",
      "Jumlah penumpang : 40\n",
      "Tujuan Anda : 1\n",
      "Harga untuk rute Solo-Semarang adalah Rp 120.000\n",
      "Jumlah pembayaran = Rp4800000\n"
     ]
    }
   ],
   "source": [
    "rutebus = (\"Pilihan rute bus :\\n1. Solo-Semarang\\n2. Solo-Jogja\\n3. Solo-Surabaya\\n4. Solo-Malang\")\n",
    "print(rutebus)\n",
    "penumpang = int(input(\"Masukkan jumlah penumpang: \"))\n",
    "print(f\"Jumlah penumpang : {penumpang}\")\n",
    "tujuan = int(input(\"Pilih tujuan Anda sesuai nomor urut : \"))\n",
    "print(f\"Tujuan Anda : {tujuan}\")\n",
    "\n",
    "if tujuan == 1:\n",
    "    tarif = 120000\n",
    "    print(f\"Harga untuk rute Solo-Semarang adalah Rp 120.000\\nJumlah pembayaran = Rp{penumpang*120000}\")\n",
    "elif tujuan == 2:\n",
    "    print(f\"Harga untuk rute Solo-Jogja adalah Rp 250.000\\nJumlah pembayaran = Rp{penumpang*250000}\")\n",
    "elif tujuan == 3:\n",
    "    print(f\"Harga untuk rute Solo-Surabaya adalah Rp 200.000\\nJumlah pembayaran = Rp{penumpang*200000}\")\n",
    "elif tujuan == 4:\n",
    "    print(f\"Harga untuk rute Solo-Malang adalah Rp 240.000\\nJumlah pembayaran = Rp{penumpang*240000}\")\n",
    "else:\n",
    "    print(\"Tidak ada rute yang sesuai\")"
   ]
  },
  {
   "cell_type": "code",
   "execution_count": 22,
   "metadata": {},
   "outputs": [
    {
     "name": "stdout",
     "output_type": "stream",
     "text": [
      "Pilihan rute bus :\n",
      "1. Solo-Semarang\n",
      "2. Solo-Jogja\n",
      "3. Solo-Surabaya\n",
      "4. Solo-Malang\n",
      "Jumlah penumpang : 40\n",
      "Tujuan Anda : 3\n",
      "Harga untuk rute Solo-Surabaya adalah Rp 200.000\n",
      "Jumlah pembayaran = Rp8000000\n",
      "Karena ada diskon Hari Raya Ramadhan sebesar 20% jika pembelian tiket lebih dari 2 orang\n",
      "Maka biaya yang perlu Anda bayarkan sebesar = Rp6400000.0\n"
     ]
    }
   ],
   "source": [
    "rutebus = (\"Pilihan rute bus :\\n1. Solo-Semarang\\n2. Solo-Jogja\\n3. Solo-Surabaya\\n4. Solo-Malang\")\n",
    "print(rutebus)\n",
    "penumpang = int(input(\"Masukkan jumlah penumpang: \"))\n",
    "print(f\"Jumlah penumpang : {penumpang}\")\n",
    "tujuan = int(input(\"Pilih tujuan Anda sesuai nomor urut : \"))\n",
    "print(f\"Tujuan Anda : {tujuan}\")\n",
    "\n",
    "if tujuan == 1:\n",
    "    tarif = 120000\n",
    "    print(f\"Harga untuk rute Solo-Semarang adalah Rp 120.000\\nJumlah pembayaran = Rp{penumpang*120000}\")\n",
    "    print(f\"Karena ada diskon Hari Raya Ramadhan sebesar 20% jika pembelian tiket lebih dari 2 orang\\nMaka biaya yang perlu Anda bayarkan sebesar = Rp{(penumpang*tarif)-(penumpang*tarif*0.2)}\")\n",
    "elif tujuan == 2:\n",
    "    tarif = 250000\n",
    "    print(f\"Harga untuk rute Solo-Jogja adalah Rp 250.000\\nJumlah pembayaran = Rp{penumpang*250000}\")\n",
    "    print(f\"Karena ada diskon Hari Raya Ramadhan sebesar 20% jika pembelian tiket lebih dari 2 orang\\nMaka biaya yang perlu Anda bayarkan sebesar = Rp{(penumpang*tarif)-(penumpang*tarif*0.2)}\")\n",
    "elif tujuan == 3:\n",
    "    tarif = 200000\n",
    "    print(f\"Harga untuk rute Solo-Surabaya adalah Rp 200.000\\nJumlah pembayaran = Rp{penumpang*200000}\")\n",
    "    print(f\"Karena ada diskon Hari Raya Ramadhan sebesar 20% jika pembelian tiket lebih dari 2 orang\\nMaka biaya yang perlu Anda bayarkan sebesar = Rp{(penumpang*tarif)-(penumpang*tarif*0.2)}\")\n",
    "elif tujuan == 4:\n",
    "    tarif = 240000\n",
    "    print(f\"Harga untuk rute Solo-Malang adalah Rp 240.000\\nJumlah pembayaran = Rp{penumpang*240000}\")\n",
    "    print(f\"Karena ada diskon Hari Raya Ramadhan sebesar 20% jika pembelian tiket lebih dari 2 orang\\nMaka biaya yang perlu Anda bayarkan sebesar = Rp{(penumpang*tarif)-(penumpang*tarif*0.2)}\")\n",
    "else:\n",
    "    print(\"Tidak ada rute yang sesuai\")"
   ]
  },
  {
   "cell_type": "code",
   "execution_count": 24,
   "metadata": {},
   "outputs": [
    {
     "name": "stdout",
     "output_type": "stream",
     "text": [
      "Pilihan rute bus :\n",
      "1. Solo-Semarang\n",
      "2. Solo-Jogja\n",
      "3. Solo-Surabaya\n",
      "4. Solo-Malang\n",
      "Jumlah penumpang : 14\n",
      "Tujuan Anda : 4\n",
      "Apakah Anda menggunakan tol : Tidak\n",
      "Karena tidak via tol harga menjadi Rp3360000\n"
     ]
    }
   ],
   "source": [
    "rutebus = (\"Pilihan rute bus :\\n1. Solo-Semarang\\n2. Solo-Jogja\\n3. Solo-Surabaya\\n4. Solo-Malang\")\n",
    "print(rutebus)\n",
    "penumpang = int(input(\"Masukkan jumlah penumpang: \"))\n",
    "print(f\"Jumlah penumpang : {penumpang}\")\n",
    "tujuan = int(input(\"Pilih tujuan Anda sesuai nomor urut : \"))\n",
    "print(f\"Tujuan Anda : {tujuan}\")\n",
    "viatol = input(\"Apakah Anda akan menggunakan tol? Ya atau Tidak \")\n",
    "print(f\"Apakah Anda menggunakan tol : {viatol}\")\n",
    "hargatol = 75000\n",
    "\n",
    "if tujuan == 1:\n",
    "    tarif = 120000\n",
    "    if viatol == \"Ya\":\n",
    "        print(f\"Harga untuk rute Solo-Semarang adalah Rp 120.000\\nJumlah pembayaran = Rp{penumpang*120000}\")\n",
    "        print(f\"Karena via tol harga menjadi Rp{hargatol+(penumpang*tarif)}\")\n",
    "        print(f\"Karena ada diskon Hari Raya Ramadhan sebesar 20% jika pembelian tiket lebih dari 2 orang\\nMaka biaya yang perlu Anda bayarkan sebesar = Rp{(hargatol+(penumpang*tarif))-(penumpang*tarif*0.2)}\")\n",
    "    else:\n",
    "        print(f\"Karena tidak via tol harga menjadi Rp{penumpang*tarif}\")\n",
    "elif tujuan == 2:\n",
    "    tarif = 250000\n",
    "    if viatol == \"Ya\":\n",
    "        print(f\"Harga untuk rute Solo-Jogja adalah Rp 250.000\\nJumlah pembayaran = Rp{penumpang*250000}\")\n",
    "        print(f\"Karena via tol harga menjadi Rp{hargatol+(penumpang*tarif)}\")\n",
    "        print(f\"Karena ada diskon Hari Raya Ramadhan sebesar 20% jika pembelian tiket lebih dari 2 orang\\nMaka biaya yang perlu Anda bayarkan sebesar = Rp{(hargatol+(penumpang*tarif))-(penumpang*tarif*0.2)}\")\n",
    "    else:\n",
    "        print(f\"Karena tidak via tol harga menjadi Rp{penumpang*tarif}\")\n",
    "elif tujuan == 3:\n",
    "    tarif = 200000\n",
    "    if viatol == \"Ya\":\n",
    "        print(f\"Harga untuk rute Solo-Surabaya adalah Rp 200.000\\nJumlah pembayaran = Rp{penumpang*200000}\")\n",
    "        print(f\"Karena via tol harga menjadi Rp{hargatol+(penumpang*tarif)}\")\n",
    "        print(f\"Karena ada diskon Hari Raya Ramadhan sebesar 20% jika pembelian tiket lebih dari 2 orang\\nMaka biaya yang perlu Anda bayarkan sebesar = Rp{(hargatol+(penumpang*tarif))-(penumpang*tarif*0.2)}\")\n",
    "    else:\n",
    "        print(f\"Karena tidak via tol harga menjadi Rp{penumpang*tarif}\")\n",
    "elif tujuan == 4:\n",
    "    tarif = 240000\n",
    "    if viatol == \"Ya\":\n",
    "        print(f\"Harga untuk rute Solo-Malang adalah Rp 240.000\\nJumlah pembayaran = Rp{penumpang*240000}\")\n",
    "        print(f\"Karena via tol harga menjadi Rp{hargatol+(penumpang*tarif)}\")\n",
    "        print(f\"Karena ada diskon Hari Raya Ramadhan sebesar 20% jika pembelian tiket lebih dari 2 orang\\nMaka biaya yang perlu Anda bayarkan sebesar = Rp{(hargatol+(penumpang*tarif))-(penumpang*tarif*0.2)}\")\n",
    "    else:\n",
    "        print(f\"Karena tidak via tol harga menjadi Rp{penumpang*tarif}\")\n",
    "else:\n",
    "    print(\"Tidak ada rute yang sesuai\")"
   ]
  }
 ],
 "metadata": {
  "kernelspec": {
   "display_name": "Python 3",
   "language": "python",
   "name": "python3"
  },
  "language_info": {
   "codemirror_mode": {
    "name": "ipython",
    "version": 3
   },
   "file_extension": ".py",
   "mimetype": "text/x-python",
   "name": "python",
   "nbconvert_exporter": "python",
   "pygments_lexer": "ipython3",
   "version": "3.10.-1"
  },
  "orig_nbformat": 4
 },
 "nbformat": 4,
 "nbformat_minor": 2
}
