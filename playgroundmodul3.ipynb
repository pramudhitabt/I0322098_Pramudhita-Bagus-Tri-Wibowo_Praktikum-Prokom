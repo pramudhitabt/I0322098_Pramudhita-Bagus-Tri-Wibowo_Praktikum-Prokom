{
 "cells": [
  {
   "attachments": {},
   "cell_type": "markdown",
   "metadata": {},
   "source": [
    "### Instruksi:\n",
    "1. Buka buku Learn Python 3 The Hard Way.\n",
    "2. Di bawah ini ada Example dari beberapa Bab yang memuat Operator.\n",
    "3. Silakan kalian bisa latihan dengan melakukan dari yang diinstruksikan pada bagian \"Study Drill\" yang ada di bawah Example\n",
    "4. Bisa dibaca-baca bukunya agar mendapatkan wawasan lebih dari apa yang asisten berikan"
   ]
  },
  {
   "attachments": {},
   "cell_type": "markdown",
   "metadata": {},
   "source": [
    " "
   ]
  },
  {
   "attachments": {},
   "cell_type": "markdown",
   "metadata": {},
   "source": [
    "3: Numbers and Math"
   ]
  },
  {
   "cell_type": "markdown",
   "metadata": {},
   "source": []
  },
  {
   "cell_type": "code",
   "execution_count": null,
   "metadata": {},
   "outputs": [],
   "source": [
    "# ex3: Numbers and Math\n",
    "\n",
    "print(\"I will now count my chickens:\")\n",
    "print(\"Hens\", 25 + 30 / 6)\n",
    "print(\"Roosters\", 100 -25 * 3 % 4)\n",
    "print(\"Now I will count the eggs:\")\n",
    "print(3 + 2 + 1 - 5 + 4 % 2 - 1 / 4 + 6)\n",
    "print(\"Is it true that 3 + 2 < 5 - 7?\")\n",
    "print(3 + 2 < 5 - 7)\n",
    "print(\"What is 3 + 2?\", 3 + 2)\n",
    "print(\"What is 5 - 7?\", 5 - 7)\n",
    "print(\"Oh, that's why it's False.\")\n",
    "print(\"How about some more.\")\n",
    "print(\"Is it greater?\", 5 > -2)\n",
    "print(\"Is it greater or equal?\", 5 >= -2)\n",
    "print(\"Is it less or equal?\", 5 <= -2)"
   ]
  },
  {
   "cell_type": "code",
   "execution_count": 2,
   "metadata": {},
   "outputs": [
    {
     "name": "stdout",
     "output_type": "stream",
     "text": [
      "I will now count my chickens:\n",
      "Hens 30.0\n",
      "Roosters 97\n",
      "Now I will count the eggs:\n",
      "6.75\n",
      "Is it true that 3 + 2 < 5 - 7?\n",
      "False\n",
      "What is 3 + 2? 5\n",
      "What is 5 - 7? -2\n",
      "Oh, that's why it's False.\n",
      "How about some more.\n",
      "Is it greater? True\n",
      "Is it greater or equal? True\n",
      "Is it less or equal? False\n"
     ]
    }
   ],
   "source": [
    "# Kerjakan Study Drill 3 di sini\n",
    "\n",
    "# menginstruksikan untuk menampilkan(print) data string dengan hasil I will now count my chickens:\n",
    "print(\"I will now count my chickens:\")\n",
    "# menginstruksikan untuk menampilkan(print) jumlah total Hens, melalui operasi hitung tambah dan bagi dengan hasil Hens 30\n",
    "print(\"Hens\", 25 + 30 / 6)\n",
    "# menginstruksikan untuk menampilkan(print) jumlah Roosters, melalui operasi hitung kurang, kali, dan  modula(sisa hasil bagi) dengan hasil Rooters 97\n",
    "print(\"Roosters\", 100 -25 * 3 % 4)\n",
    "# menginstruksikan untuk menampilkan(print) data string dengan hasil Now I will count the eggs:\n",
    "print(\"Now I will count the eggs:\")\n",
    "# menginstruksikan untuk mencari hasil dari operasi hitung tambah, kurang, bagi, dan modula(sisa hasil bagi) dengan hasil 6,75\n",
    "print(3 + 2 + 1 - 5 + 4 % 2 - 1 / 4 + 6)\n",
    "# menginstruksikan untuk menampilkan(print) data string dengan hasil Is it true that 3 + 2 < 5 - 7? \n",
    "print(\"Is it true that 3 + 2 < 5 - 7?\")\n",
    "# menginstruksikan untuk menampilkan(print) kebenaran dari operasi perbandingan dengan menggunakan true atau false dan diperoleh hasil False(karena 5 seharusnya lebih besar dari -2)\n",
    "print(3 + 2 < 5 - 7)\n",
    "# menginstruksikan untuk menampilkan(print) data string, disertai hasil dari operasi hitung yang ditanyakan dan hasil yg diperoleh What is 3 + 2? 5\n",
    "print(\"What is 3 + 2?\", 3 + 2)\n",
    "# menginstruksikan untuk menampilkan(print) data string, disertai hasil dari operasi hitung yang ditanyakan dan hasil yang diperoleh What is 5 - 7? -2\n",
    "print(\"What is 5 - 7?\", 5 - 7)\n",
    "# menginstruksikan untuk menampilkan(print) data string dengan hasil Oh, that's why it's False.\n",
    "print(\"Oh, that's why it's False.\")\n",
    "# menginstruksikan untuk menampilkan(print) data string dengan hasil How about some more.\n",
    "print(\"How about some more.\")\n",
    "# menginstruksikan untuk menampilkan(print) data string, disertai hasil dari operasi perbandingan dengan menggunakan true atau false dan diperoleh hasil Is it greater? True (karena 5 lebih besar dari -2)\n",
    "print(\"Is it greater?\", 5 > -2)\n",
    "# menginstruksikan untuk menampilkan(print) data string, disertai hasil dari operasi perbandingan dengan menggunakan true atau false dan diperoleh hasil Is it greater or equal? True (karena 5 lebih besar atau sama dengan -2)\n",
    "print(\"Is it greater or equal?\", 5 >= -2)\n",
    "# menginstruksikan untuk menampilkan(print) data string, disertai hasil dari operasi perbandingan dengan menggunakan true atau false dan diperoleh hasil Is it less or equal? False (kaerna seharusnya 5 lebih besar atau sama dengan -2, bukan kurang dari sama dengan)\n",
    "print(\"Is it less or equal?\", 5 <= -2)"
   ]
  },
  {
   "attachments": {},
   "cell_type": "markdown",
   "metadata": {},
   "source": [
    "4: Variables and Names"
   ]
  },
  {
   "cell_type": "code",
   "execution_count": null,
   "metadata": {},
   "outputs": [],
   "source": [
    "cars = 100\n",
    "space_in_a_car = 4.0\n",
    "drivers = 30\n",
    "passengers = 90\n",
    "cars_not_driven = cars - drivers\n",
    "cars_driven = drivers\n",
    "carpool_capacity = cars_driven * space_in_a_car\n",
    "average_passengers_per_car = passengers / cars_driven\n",
    "\n",
    "print(\"There are\", cars, \"cars available.\")\n",
    "print(\"There are only\", drivers, \"drivers available.\")\n",
    "print(\"There will be\", cars_not_driven, \"empty cars today.\")\n",
    "print(\"We can transport\", carpool_capacity, \"people today.\")\n",
    "print(\"We have\", passengers, \"to carpool today.\")\n",
    "print(\"We need to put about\", average_passengers_per_car, \"in each car.\")"
   ]
  },
  {
   "cell_type": "code",
   "execution_count": 4,
   "metadata": {},
   "outputs": [
    {
     "name": "stdout",
     "output_type": "stream",
     "text": [
      "There are 100 cars available.\n",
      "There are only 30 drivers available.\n",
      "There will be 70 empty cars today.\n",
      "We can transport 120.0 people today.\n",
      "We have 90 to carpool today.\n",
      "We need to put about 3.0 in each car.\n"
     ]
    }
   ],
   "source": [
    "# Kerjakan Study Drill 4 di sini\n",
    "\n",
    "# membuat variabel cars\n",
    "cars = 100\n",
    "# membuat variabel space_in_a_car\n",
    "space_in_a_car = 4.0\n",
    "# membuat variabel drivers\n",
    "drivers = 30\n",
    "# membuat variabel passengers\n",
    "passengers = 90\n",
    "# membuat variabel dengan hasil operasi cars dikurangi drivers yakni 70\n",
    "cars_not_driven = cars - drivers\n",
    "# membuat variabel cars_driven yang memuat nilai sama dengan variabel drivers yakni 30\n",
    "cars_driven = drivers\n",
    "# membuat variabel carpool_capacity dengan hasil operasi cars_driven dikali dengan space_in_a_car yakni 120 \n",
    "carpool_capacity = cars_driven * space_in_a_car\n",
    "# membuat variabel average_pasengers_per_car dengan hasil operasi passengers dibagi dengan cars_driven yakni 3\n",
    "average_passengers_per_car = passengers / cars_driven\n",
    "\n",
    "# menginstruksikan untuk menampilkan(print) string There are nilai variabel cars(100) cars available.\n",
    "print(\"There are\", cars, \"cars available.\")\n",
    "# menginstruksikan untuk menampilkan(print) string There are only nilai variabel drivers(30) drivers available.\n",
    "print(\"There are only\", drivers, \"drivers available.\")\n",
    "# menginstruksikan untuk menampilkan(print) string There will be nilai variabel cars_not_driven(70) empty cars today.\n",
    "print(\"There will be\", cars_not_driven, \"empty cars today.\")\n",
    "# menginstruksikan untuk menampilkan(print) string We can transport nilai variabel carpool_capacity(120.0) people today.\n",
    "print(\"We can transport\", carpool_capacity, \"people today.\")\n",
    "# menginstruksikan untuk menampilkan(print) string We have nilai variabel passengers(90) to carpool today.\n",
    "print(\"We have\", passengers, \"to carpool today.\")\n",
    "# menginstruksikan untuk menampilkan(print) string We need to put about nilai variabel average_passengers_per_car(3.0) in each car.\n",
    "print(\"We need to put about\", average_passengers_per_car, \"in each car.\")"
   ]
  },
  {
   "attachments": {},
   "cell_type": "markdown",
   "metadata": {},
   "source": [
    "### Instruksi:\n",
    "1. Tulis ulang kode contoh di atasnya dengan sebelumnya artikan dengan command (#)"
   ]
  },
  {
   "attachments": {},
   "cell_type": "markdown",
   "metadata": {},
   "source": [
    "Contoh\n",
    "\n",
    "Tulis program Python yang dapat menghitung luas dari Lingkaran dengan jari-jari yang diinput!"
   ]
  },
  {
   "cell_type": "code",
   "execution_count": null,
   "metadata": {},
   "outputs": [],
   "source": [
    "from math import pi\n",
    "r = float(input (\"Input the radius of the circle : \"))\n",
    "print (\"The area of the circle with radius \" + str(r) + \" is: \" + str(pi * r**2))"
   ]
  },
  {
   "cell_type": "code",
   "execution_count": null,
   "metadata": {},
   "outputs": [],
   "source": [
    "# import pi dari math library\n",
    "from math import pi\n",
    "# membuat variabel untuk user menginputkan nilai jari-jari\n",
    "r = float(input (\"Masukkan jari-jari lingkaran: \"))\n",
    "# Menampilkan(print) nilai luas lingkaran sekaligus menghitungnya\n",
    "print (\"Luas lingkaran dengan jari-jari \" + str(r) + \" adalah: \" + str(pi * r**2))"
   ]
  },
  {
   "attachments": {},
   "cell_type": "markdown",
   "metadata": {},
   "source": [
    "5: Tulis program Python untuk tambah, kurang, kali, dan bagi dari dua buah pecahan"
   ]
  },
  {
   "cell_type": "code",
   "execution_count": null,
   "metadata": {},
   "outputs": [],
   "source": [
    "import fractions\n",
    "\n",
    "f1 = fractions.Fraction(2, 3)\n",
    "f2 = fractions.Fraction(3, 7)\n",
    "\n",
    "print('{} + {} = {}'.format(f1, f2, f1 + f2))\n",
    "print('{} - {} = {}'.format(f1, f2, f1 - f2))\n",
    "print('{} * {} = {}'.format(f1, f2, f1 * f2))\n",
    "print('{} / {} = {}'.format(f1, f2, f1 / f2))"
   ]
  },
  {
   "cell_type": "code",
   "execution_count": 9,
   "metadata": {},
   "outputs": [
    {
     "name": "stdout",
     "output_type": "stream",
     "text": [
      "2/3 + 3/7 = 23/21\n",
      "2/3 - 3/7 = 5/21\n",
      "2/3 * 3/7 = 2/7\n",
      "2/3 / 3/7 = 14/9\n"
     ]
    }
   ],
   "source": [
    "# Kerjakan Study Drill 5 di sini\n",
    "\n",
    "# import pi dari math library\n",
    "import fractions\n",
    "# fractions. Fraction menjalankan perintah fraction dari moodul fractions\n",
    "# Fraction(a, b) membentuk a dan b menjadi berbentuk pecahan\n",
    "# membuat variabel f1 dengan nilai berbentuk pecahan(2/3)\n",
    "f1 = fractions.Fraction(2, 3)\n",
    "# membuat variabel f1 dengan nilai berbentuk pecahan(3/7)\n",
    "f2 = fractions.Fraction(3, 7)\n",
    "# menampilkan(print) data string berformat dengan mengembalikan nilai f1, f2, f1 + f2\n",
    "print('{} + {} = {}'.format(f1, f2, f1 + f2))\n",
    "# menampilkan(print) data string berformat dengan mengembalikan nilai f1, f2, f1 - f2\n",
    "print('{} - {} = {}'.format(f1, f2, f1 - f2))\n",
    "# menampilkan(print) data string berformat dengan mengembalikan nilai f1, f2,  f1 * f2\n",
    "print('{} * {} = {}'.format(f1, f2, f1 * f2))\n",
    "# menampilkan(print) data string berformat dengan mengembalikan nilai f1, f2,  f1 / f2\n",
    "print('{} / {} = {}'.format(f1, f2, f1 / f2))"
   ]
  },
  {
   "attachments": {},
   "cell_type": "markdown",
   "metadata": {},
   "source": [
    "6: Tulis program Python yang akan menghitung luas dari segitiga dengan alas dan tinggi yang kamu inputkan!"
   ]
  },
  {
   "cell_type": "code",
   "execution_count": null,
   "metadata": {},
   "outputs": [],
   "source": [
    "b = int(input(\"Input alas : \"))\n",
    "h = int(input(\"Input tinggi : \"))\n",
    "\n",
    "luas = b*h/2\n",
    "\n",
    "print(\"luas = \", luas)"
   ]
  },
  {
   "cell_type": "code",
   "execution_count": 10,
   "metadata": {},
   "outputs": [
    {
     "name": "stdout",
     "output_type": "stream",
     "text": [
      "luas =  15.0\n"
     ]
    }
   ],
   "source": [
    "# Kerjakan Study Drill 6 di sini\n",
    "\n",
    "# membuat variabel untuk user menginputkan nilai alas\n",
    "b = int(input(\"Input alas : \"))\n",
    "# membuat variabel untuk user menginputkan nilai tinggi\n",
    "h = int(input(\"Input tinggi : \"))\n",
    "# membuat variabel luas sekaligus melakukan operasi hitung luas segitiga dengan nilai alas dan tinggi sesuai input user\n",
    "luas = b*h/2\n",
    "# menampilkan(print) luas = hasil(luas segitiga)\n",
    "print(\"luas = \", luas)"
   ]
  },
  {
   "attachments": {},
   "cell_type": "markdown",
   "metadata": {},
   "source": [
    "7: Tulis program Python yang dapat menghitung luas permukaan dan volume dari Tabung!"
   ]
  },
  {
   "cell_type": "code",
   "execution_count": null,
   "metadata": {},
   "outputs": [],
   "source": [
    "pi=22/7\n",
    "tinggi = float(input('Tinggi dari Tabung: '))\n",
    "jarijari = float(input('Jari-jari dari Tabung: '))\n",
    "volume = pi * jarijari * jarijari * tinggi\n",
    "lp = ((2*pi*jarijari) * tinggi) + ((pi*jarijari**2)*2)\n",
    "print(\"Volume tabung adalah: \", volume)\n",
    "print(\"Luas permukaan tabung adalah: \", lp)"
   ]
  },
  {
   "cell_type": "code",
   "execution_count": 11,
   "metadata": {},
   "outputs": [
    {
     "name": "stdout",
     "output_type": "stream",
     "text": [
      "Volume tabung adalah:  770.0\n",
      "Luas permukaan tabung adalah:  528.0\n"
     ]
    }
   ],
   "source": [
    "# Kerjakan Study Drill 7 di sini\n",
    "\n",
    "# membuat variabel pi dengan nilai 22/7\n",
    "pi=22/7\n",
    "# membuat variabel untuk user menginputkan tinggi tabung\n",
    "tinggi = float(input('Tinggi dari Tabung: '))\n",
    "# membuat variabel untuk user menginputkan jari-jari tabung\n",
    "jarijari = float(input('Jari-jari dari Tabung: '))\n",
    "# membuat variabel volume berupa operasi hitung untuk menghitung volume tabung\n",
    "volume = pi * jarijari * jarijari * tinggi\n",
    "# membuat variabel lp berupa operasi hitung untuk menghitung luas permukaan tabung\n",
    "lp = ((2*pi*jarijari) * tinggi) + ((pi*jarijari**2)*2)\n",
    "# menginstruksikan untuk menampilkan(print) Volume tabung adalah: hasil(volume tabung)\n",
    "print(\"Volume tabung adalah: \", volume)\n",
    "# menginstruksikan untuk menampilkan(print) Luas permukaan tabung adalah: hasil(luas permukaan tabung)\n",
    "print(\"Luas permukaan tabung adalah: \", lp)"
   ]
  },
  {
   "attachments": {},
   "cell_type": "markdown",
   "metadata": {},
   "source": [
    "8: Tulis program Python untuk mendapatkan akar pangkat dua dan pangkat dari nilai desimal yang diberikan!"
   ]
  },
  {
   "cell_type": "code",
   "execution_count": null,
   "metadata": {},
   "outputs": [],
   "source": [
    "from decimal import *\n",
    "x = Decimal('1.44')\n",
    "print(\"Akar pangkat dua dari\",x, \"adalah :\", x.sqrt())\n",
    "print(\"Pangkat dua dari\",x, \" adalah :\", x.exp())\n"
   ]
  },
  {
   "cell_type": "code",
   "execution_count": 5,
   "metadata": {},
   "outputs": [
    {
     "name": "stdout",
     "output_type": "stream",
     "text": [
      "Akar pangkat dua dari 1.44 adalah : 1.2\n",
      "Pangkat dua dari 1.44  adalah : 4.220695816996552825673328929\n"
     ]
    }
   ],
   "source": [
    "# Kerjakan Study Drill 8 di sini\n",
    "\n",
    "# import pi dari math library\n",
    "from decimal import *\n",
    "# membuat variabel x dengan nilai desimal(1,44)\n",
    "x = Decimal('1.44')\n",
    "# menampilkan(print) data string sekaligus menghitungnya sehingga diperoleh Akar pangkat dua dari variabel x(1.44) adalah : hasil(1.2)\n",
    "print(\"Akar pangkat dua dari\",x, \"adalah :\", x.sqrt())\n",
    "# menampilkan(print) data string sekaligus menghitungnya sehingga diperoleh Pangkat dua dari variabel x(1.44) adalah : hasil(4.220695816996552825673328929)\n",
    "print(\"Pangkat dua dari\",x, \" adalah :\", x.exp())\n"
   ]
  },
  {
   "attachments": {},
   "cell_type": "markdown",
   "metadata": {},
   "source": [
    "9: Tulis program Python yang dapat menentukan apakah benar bilangan tersebut LEBIH BESAR dari 4^4 DAN jika di-MODULUS-kan 34 hasilnya adalah 4!"
   ]
  },
  {
   "cell_type": "code",
   "execution_count": null,
   "metadata": {},
   "outputs": [],
   "source": [
    "def test(n):\n",
    "    return n % 34 == 4 and n > 4 ** 4\n",
    "\n",
    "n = 922\n",
    "print(\"Original Integer:\")\n",
    "print(n)\n",
    "print(\"Apakah benar integer tersebut lebih besar dari 4^4 dan hasilnya 4 jika di-mod-kan dengan 34:\")\n",
    "\n",
    "print(test(n))\n",
    "\n",
    "n = 914\n",
    "print(\"\\nOriginal Integer:\")\n",
    "print(n)\n",
    "print(\"Apakah benar integer tersebut lebih besar dari 4^4 dan hasilnya 4 jika di-mod-kan dengan 34:\")\n",
    "print(test(n))\n",
    "\n",
    "n = 854\n",
    "print(\"\\nOriginal Integer:\")\n",
    "print(n)\n",
    "print(\"Apakah benar integer tersebut lebih besar dari 4^4 dan hasilnya 4 jika di-mod-kan dengan 34:\")\n",
    "print(test(n))"
   ]
  },
  {
   "cell_type": "code",
   "execution_count": 8,
   "metadata": {},
   "outputs": [
    {
     "name": "stdout",
     "output_type": "stream",
     "text": [
      "Original Integer:\n",
      "922\n",
      "Apakah benar integer tersebut lebih besar dari 4^4 dan hasilnya 4 jika di-mod-kan dengan 34:\n",
      "True\n",
      "\n",
      "Original Integer:\n",
      "914\n",
      "Apakah benar integer tersebut lebih besar dari 4^4 dan hasilnya 4 jika di-mod-kan dengan 34:\n",
      "False\n",
      "\n",
      "Original Integer:\n",
      "854\n",
      "Apakah benar integer tersebut lebih besar dari 4^4 dan hasilnya 4 jika di-mod-kan dengan 34:\n",
      "True\n"
     ]
    }
   ],
   "source": [
    "# Kerjakan Study Drill 9 di sini\n",
    "## Kalian bisa coba membuktikan dengan menghitung hasil dari 4^4 dan mod 34 dari bilangan integernya\n",
    "\n",
    "# menyatakan sebuah fungsi test dengan variabel n\n",
    "def test(n):\n",
    "# mengembalikan nilai yang didapat dari logika AND, dengan n modulus 34 adalah 4 AND n kurang dari 4 pangkat 4\n",
    "    return n % 34 == 4 and n > 4 ** 4\n",
    "\n",
    "# membuat variabel n dengan nilai 922\n",
    "n = 922\n",
    "# menampilkan(print) data string dengan hasil Original Integer: \n",
    "print(\"Original Integer:\")\n",
    "# menampilkan(print) nilai dari variabel n yakni 922\n",
    "print(n)\n",
    "# menampilkan(print) data string dengan hasil Apakah benar integer tersebut lebih besar dari 4^4 dan hasilnya 4 jika di-mod-kan dengan 34: \n",
    "print(\"Apakah benar integer tersebut lebih besar dari 4^4 dan hasilnya 4 jika di-mod-kan dengan 34:\")\n",
    "# menguji apakah nilai n lebih besar dari 4^4 dan hasilnya 4 jika di-mod-kan dengan 34 dan ternyata 922 true\n",
    "print(test(n))\n",
    "\n",
    "# membuat variabel n dengan nilai 914\n",
    "n = 914\n",
    "# menampilkan(print) data string dengan hasil\n",
    "print(\"\\nOriginal Integer:\")\n",
    "# menampilkan(print) nilai dari variabel n yakni 914\n",
    "print(n)\n",
    "# menampilkan(print) data string dengan hasil Apakah benar integer tersebut lebih besar dari 4^4 dan hasilnya 4 jika di-mod-kan dengan 34: \n",
    "print(\"Apakah benar integer tersebut lebih besar dari 4^4 dan hasilnya 4 jika di-mod-kan dengan 34:\")\n",
    "# menguji apakah nilai n lebih besar dari 4^4 dan hasilnya 4 jika di-mod-kan dengan 34 dan ternyata 914 false\n",
    "print(test(n))\n",
    "\n",
    "# membuat variabel n dengan nilai 854\n",
    "n = 854\n",
    "# menampilkan(print) data string dengan hasil\n",
    "print(\"\\nOriginal Integer:\")\n",
    "# menampilkan(print) nilai dari variabel n yakni 854\n",
    "print(n)\n",
    "# menampilkan(print) data string dengan hasil Apakah benar integer tersebut lebih besar dari 4^4 dan hasilnya 4 jika di-mod-kan dengan 34: \n",
    "print(\"Apakah benar integer tersebut lebih besar dari 4^4 dan hasilnya 4 jika di-mod-kan dengan 34:\")\n",
    "# menguji apakah nilai n lebih besar dari 4^4 dan hasilnya 4 jika di-mod-kan dengan 34 dan ternyata 854 true\n",
    "print(test(n))"
   ]
  },
  {
   "attachments": {},
   "cell_type": "markdown",
   "metadata": {},
   "source": [
    "10: Tulis program Python yang dapat menyimpan nama depan dan nama belakang user dan mem-print-nya dengan dibalik antara keduanya!\n"
   ]
  },
  {
   "cell_type": "code",
   "execution_count": null,
   "metadata": {},
   "outputs": [],
   "source": [
    "fname = input(\"Input your First Name : \")\n",
    "lname = input(\"Input your Last Name : \")\n",
    "print (\"Hello  \" + lname + \" \" + fname)"
   ]
  },
  {
   "cell_type": "code",
   "execution_count": 7,
   "metadata": {},
   "outputs": [
    {
     "name": "stdout",
     "output_type": "stream",
     "text": [
      "Hello  Bagus Pramudhita\n"
     ]
    }
   ],
   "source": [
    "# Kerjakan Study Drill 10 di sini\n",
    "\n",
    "# menginstruksikan user untuk menginputkan nama pertamanya\n",
    "fname = input(\"Input your First Name : \")\n",
    "# menginstruksikan user untuk menginputkan nama terakhirnya\n",
    "lname = input(\"Input your Last Name : \")\n",
    "# menginstruksikan untuk menampilkan(print) data string dengan hasil Hello nama terakhir nama pertama\n",
    "print (\"Hello  \" + lname + \" \" + fname)"
   ]
  }
 ],
 "metadata": {
  "kernelspec": {
   "display_name": "Python 3",
   "language": "python",
   "name": "python3"
  },
  "language_info": {
   "codemirror_mode": {
    "name": "ipython",
    "version": 3
   },
   "file_extension": ".py",
   "mimetype": "text/x-python",
   "name": "python",
   "nbconvert_exporter": "python",
   "pygments_lexer": "ipython3",
   "version": "3.10.7"
  },
  "orig_nbformat": 4
 },
 "nbformat": 4,
 "nbformat_minor": 2
}
